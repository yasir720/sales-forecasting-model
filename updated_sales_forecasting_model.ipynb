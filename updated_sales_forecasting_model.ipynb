{
  "cells": [
    {
      "cell_type": "markdown",
      "metadata": {
        "id": "AOUJOGV7zioN"
      },
      "source": [
        "# Sales Forecasting Model: Predicting Future Sales from Historical Data\n",
        "\n",
        "This notebook builds a sales forecasting model using historical sales data. It leverages feature enrichment from the **Upgini** platform and uses the **CatBoost** regression model to predict future sales."
      ],
      "id": "AOUJOGV7zioN"
    },
    {
      "cell_type": "markdown",
      "metadata": {
        "id": "OnIvoZP3zioO"
      },
      "source": [
        "## Installing Libraries\n",
        "\n",
        "Run this to install required packages if you haven't already."
      ],
      "id": "OnIvoZP3zioO"
    },
    {
      "cell_type": "code",
      "execution_count": null,
      "metadata": {
        "id": "5a2R8qE7zioP"
      },
      "outputs": [],
      "source": [
        "!pip install -Uq upgini catboost matplotlib seaborn"
      ],
      "id": "5a2R8qE7zioP"
    },
    {
      "cell_type": "markdown",
      "metadata": {
        "id": "KJzT7zXBzioP"
      },
      "source": [
        "## Load Data"
      ],
      "id": "KJzT7zXBzioP"
    },
    {
      "cell_type": "code",
      "execution_count": null,
      "metadata": {
        "id": "flULCClAzioP"
      },
      "outputs": [],
      "source": [
        "from os.path import exists\n",
        "import pandas as pd\n",
        "\n",
        "# Load dataset: local if exists, else download\n",
        "df_path = 'train.csv.zip' if exists('train.csv.zip') else 'https://github.com/upgini/upgini/raw/main/notebooks/train.csv.zip'\n",
        "df = pd.read_csv(df_path)\n",
        "\n",
        "# Sample 19,000 rows for faster prototyping\n",
        "df = df.sample(n=19000, random_state=0)\n",
        "\n",
        "# Convert identifiers to strings\n",
        "df['store'] = df['store'].astype(str)\n",
        "df['item'] = df['item'].astype(str)\n",
        "\n",
        "# Convert date column to datetime\n",
        "df['date'] = pd.to_datetime(df['date'])\n",
        "\n",
        "# Sort chronologically\n",
        "df.sort_values('date', inplace=True)\n",
        "df.reset_index(inplace=True, drop=True)\n",
        "\n",
        "df.head()"
      ],
      "id": "flULCClAzioP"
    },
    {
      "cell_type": "markdown",
      "metadata": {
        "id": "8gCiQtYczioP"
      },
      "source": [
        "## Data Preparation\n",
        "\n",
        "Split the data into training and testing sets based on date."
      ],
      "id": "8gCiQtYczioP"
    },
    {
      "cell_type": "code",
      "execution_count": null,
      "metadata": {
        "id": "fwqZVFdczioQ"
      },
      "outputs": [],
      "source": [
        "train = df[df['date'] < '2017-01-01']\n",
        "test = df[df['date'] >= '2017-01-01']\n",
        "\n",
        "train_features = train.drop(columns=['sales'])\n",
        "train_target = train['sales']\n",
        "test_features = test.drop(columns=['sales'])\n",
        "test_target = test['sales']"
      ],
      "id": "fwqZVFdczioQ"
    },
    {
      "cell_type": "markdown",
      "metadata": {
        "id": "HcWdnGlyzioQ"
      },
      "source": [
        "### Feature Enrichment\n",
        "\n",
        "Use Upgini to enrich features based on date."
      ],
      "id": "HcWdnGlyzioQ"
    },
    {
      "cell_type": "code",
      "execution_count": null,
      "metadata": {
        "id": "GH3pSHCzzioQ"
      },
      "outputs": [],
      "source": [
        "from upgini import FeaturesEnricher, SearchKey\n",
        "from upgini.metadata import CVType\n",
        "\n",
        "enricher = FeaturesEnricher(\n",
        "    search_keys={\n",
        "        'date': SearchKey.DATE,\n",
        "    },\n",
        "    cv = CVType.time_series\n",
        ")\n",
        "\n",
        "enricher.fit(train_features,\n",
        "             train_target,\n",
        "             eval_set=[(test_features, test_target)])"
      ],
      "id": "GH3pSHCzzioQ"
    },
    {
      "cell_type": "markdown",
      "metadata": {
        "id": "BBcRl_lOzioQ"
      },
      "source": [
        "## Model Training and Evaluation"
      ],
      "id": "BBcRl_lOzioQ"
    },
    {
      "cell_type": "code",
      "execution_count": null,
      "metadata": {
        "id": "cfYPiGUazioQ"
      },
      "outputs": [],
      "source": [
        "from catboost import CatBoostRegressor\n",
        "from catboost.utils import eval_metric\n",
        "\n",
        "model = CatBoostRegressor(verbose=False, allow_writing_files=False, random_state=0)\n",
        "\n",
        "enricher.calculate_metrics(\n",
        "    train_features, train_target,\n",
        "    eval_set=[(test_features, test_target)],\n",
        "    estimator=model,\n",
        "    scoring='mean_absolute_percentage_error'\n",
        ")\n",
        "\n",
        "enriched_train_features = enricher.transform(train_features, keep_input=True)\n",
        "enriched_test_features = enricher.transform(test_features, keep_input=True)\n",
        "\n",
        "model.fit(train_features, train_target)\n",
        "preds = model.predict(test_features)\n",
        "print('SMAPE without enrichment:', eval_metric(test_target.values, preds, 'SMAPE'))\n",
        "\n",
        "model.fit(enriched_train_features, train_target)\n",
        "enriched_preds = model.predict(enriched_test_features)\n",
        "print('SMAPE with enrichment:', eval_metric(test_target.values, enriched_preds, 'SMAPE'))"
      ],
      "id": "cfYPiGUazioQ"
    },
    {
      "cell_type": "markdown",
      "metadata": {
        "id": "lDnpi5YDzioQ"
      },
      "source": [
        "## Visualization and Analysis\n",
        "\n",
        "Let's visualize the actual vs predicted sales to get more insight into model performance."
      ],
      "id": "lDnpi5YDzioQ"
    },
    {
      "cell_type": "code",
      "execution_count": null,
      "metadata": {
        "id": "IVHrMHZyzioQ"
      },
      "outputs": [],
      "source": [
        "import matplotlib.pyplot as plt\n",
        "import seaborn as sns\n",
        "\n",
        "# Plot actual vs predicted sales\n",
        "plt.figure(figsize=(12,6))\n",
        "sns.scatterplot(x=test_target, y=preds, alpha=0.6)\n",
        "plt.plot([test_target.min(), test_target.max()], [test_target.min(), test_target.max()], 'r--')\n",
        "plt.xlabel('Actual Sales')\n",
        "plt.ylabel('Predicted Sales (Without Enrichment)')\n",
        "plt.title('Actual vs Predicted Sales - Base Model')\n",
        "plt.show()"
      ],
      "id": "IVHrMHZyzioQ"
    },
    {
      "cell_type": "code",
      "execution_count": null,
      "metadata": {
        "id": "KEzFiQQTzioQ"
      },
      "outputs": [],
      "source": [
        "# Plot actual vs enriched predictions\n",
        "plt.figure(figsize=(12,6))\n",
        "sns.scatterplot(x=test_target, y=enriched_preds, alpha=0.6, color='green')\n",
        "plt.plot([test_target.min(), test_target.max()], [test_target.min(), test_target.max()], 'r--')\n",
        "plt.xlabel('Actual Sales')\n",
        "plt.ylabel('Predicted Sales (With Enrichment)')\n",
        "plt.title('Actual vs Predicted Sales - Enriched Model')\n",
        "plt.show()"
      ],
      "id": "KEzFiQQTzioQ"
    },
    {
      "cell_type": "markdown",
      "metadata": {
        "id": "BjHBn5cUzioR"
      },
      "source": [
        "### Insight:\n",
        "\n",
        "- The enriched model shows a tighter correlation with actual sales, indicating improved prediction accuracy.\n",
        "- Points closer to the diagonal red line represent better predictions.\n",
        "- Feature enrichment using Upgini provides valuable external information that helps the model generalize better.\n",
        "- There are still some outliers; further tuning or more features might improve results.\n",
        "\n",
        "### Next steps:\n",
        "\n",
        "- Explore additional features or external datasets.\n",
        "- Experiment with hyperparameter tuning of CatBoost.\n",
        "- Consider other advanced time-series models or ensembling techniques."
      ],
      "id": "BjHBn5cUzioR"
    }
  ],
  "metadata": {
    "kernelspec": {
      "display_name": "Python 3",
      "language": "python",
      "name": "python3"
    },
    "language_info": {
      "name": "python",
      "version": "3.10"
    },
    "colab": {
      "provenance": []
    }
  },
  "nbformat": 4,
  "nbformat_minor": 5
}